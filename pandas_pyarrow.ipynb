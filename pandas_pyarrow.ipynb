{
 "cells": [
  {
   "cell_type": "code",
   "execution_count": 1,
   "metadata": {},
   "outputs": [],
   "source": [
    "import pandas as pd\n",
    "import pyarrow as pa\n"
   ]
  },
  {
   "cell_type": "markdown",
   "metadata": {},
   "source": [
    "# Read CSV with PyArrow \n",
    "\n",
    "## Convert to Pandas"
   ]
  },
  {
   "cell_type": "code",
   "execution_count": 3,
   "metadata": {},
   "outputs": [],
   "source": [
    "import pandas as pd\n",
    "import pyarrow.csv as pa_csv\n",
    "from pandas import DataFrame\n",
    "\n",
    "\n",
    "#  ignore line error\n",
    "def csv_line_error(line: str) -> str:\n",
    "    print(line)\n",
    "    return \"skip\"\n",
    "\n",
    "\n",
    "def set_column_type_string(filepath: str) -> dict:\n",
    "    df: DataFrame = pd.read_csv(filepath, nrows=1, engine=\"python\")\n",
    "    column_type: dict = {}\n",
    "    for col in df.columns.tolist():\n",
    "        column_type[col] = pa.string()\n",
    "    return column_type\n",
    "\n",
    "\n",
    "def pyarrow_read_csv(filepath: str) -> DataFrame:\n",
    "    # read csv file force type string\n",
    "    # if not set columns big number is issue\n",
    "    column_type = set_column_type_string(filepath)\n",
    "\n",
    "    # ignore line error when read\n",
    "    # call function csv_line_error when row invalid\n",
    "    parse_options = pa_csv.ParseOptions(invalid_row_handler=csv_line_error)\n",
    "\n",
    "    # ignore utf8\n",
    "    # strings_can_be_null = True\n",
    "    convert_options = pa_csv.ConvertOptions(check_utf8=False, column_types=column_type, strings_can_be_null=True)\n",
    "\n",
    "    tbl: pa.Table = pa_csv.read_csv(filepath, parse_options=parse_options, convert_options=convert_options)\n",
    "    df: DataFrame = tbl.to_pandas(types_mapper=pd.ArrowDtype)\n",
    "    return df"
   ]
  },
  {
   "cell_type": "code",
   "execution_count": null,
   "metadata": {},
   "outputs": [],
   "source": []
  }
 ],
 "metadata": {
  "kernelspec": {
   "display_name": "Python 3",
   "language": "python",
   "name": "python3"
  },
  "language_info": {
   "codemirror_mode": {
    "name": "ipython",
    "version": 3
   },
   "file_extension": ".py",
   "mimetype": "text/x-python",
   "name": "python",
   "nbconvert_exporter": "python",
   "pygments_lexer": "ipython3",
   "version": "3.11.6"
  }
 },
 "nbformat": 4,
 "nbformat_minor": 2
}
