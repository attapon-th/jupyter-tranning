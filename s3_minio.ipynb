{
 "cells": [
  {
   "cell_type": "markdown",
   "metadata": {},
   "source": [
    "# S3 Minio Tutorial\n",
    "\n",
    "## Python Package Requirements\n",
    "\n",
    "1. [s3fs](https://pypi.org/project/s3fs/) - สำหรับเชื่อมต่อ S3 API ของ Minio และ AWS S3\n",
    "2. [configobj](https://pypi.org/project/configobj/) -  สำหรับอ่าน file `.ini` \n",
    "\n",
    "    Pip install:\n",
    "    ```bash\n",
    "    pip install s3fs configobj\n",
    "\n",
    "    ```\n",
    "\n",
    "\n",
    " [s3fs Documentation: https://s3fs.readthedocs.io](https://s3fs.readthedocs.io/en/latest/index.html)"
   ]
  },
  {
   "cell_type": "code",
   "execution_count": null,
   "metadata": {},
   "outputs": [],
   "source": [
    "import os\n",
    "\n",
    "from configobj import ConfigObj\n",
    "from s3fs import S3FileSystem"
   ]
  },
  {
   "cell_type": "markdown",
   "metadata": {},
   "source": [
    "## Read Configfile `config.ini`\n",
    "\n",
    "Example `config.ini`\n",
    "```ini\n",
    "[minio]\n",
    "endpoint_url = https://127.0.0.1:9000\n",
    "key = minioadmin\n",
    "secret = minioadmin\n",
    "bucket=bucket_name\n",
    "path=path_prefix\n",
    "```"
   ]
  },
  {
   "cell_type": "code",
   "execution_count": null,
   "metadata": {},
   "outputs": [],
   "source": [
    "conf: dict = ConfigObj('config.ini', raise_errors=True)\n",
    "conf.keys()"
   ]
  },
  {
   "cell_type": "markdown",
   "metadata": {},
   "source": [
    "## Connect MinIO\n"
   ]
  },
  {
   "cell_type": "code",
   "execution_count": null,
   "metadata": {},
   "outputs": [],
   "source": [
    "minioConf = conf[\"minio\"]\n",
    "\n",
    "s3: S3FileSystem = S3FileSystem(\n",
    "    anon=False,\n",
    "    key=minioConf[\"key\"],\n",
    "    secret=minioConf[\"secret\"],\n",
    "    endpoint_url=minioConf[\"endpoint_url\"], \n",
    ") \n",
    "\n",
    "# check can connect to minio bucket `name`\n",
    "print(\"can connect minio bucket: \", s3.ls(\"/\"))\n",
    "print(\"connected to minio.\")"
   ]
  },
  {
   "cell_type": "markdown",
   "metadata": {},
   "source": [
    "## List file in MinIO\n",
    "\n",
    "\n",
    "```python\n",
    "bucket = \"bucket_name\"\n",
    "path_prefix = \"path/to/\"\n",
    "s3.ls(f\"{bucket}/{path_prefix}\")\n",
    "\n",
    "```"
   ]
  },
  {
   "cell_type": "code",
   "execution_count": null,
   "metadata": {},
   "outputs": [],
   "source": [
    "bucket = conf[\"minio\"][\"bucket\"]\n",
    "path_prefix = conf[\"minio\"][\"path\"]\n",
    "\n",
    "# list files in bucket/path\n",
    "s3.ls(f\"{bucket}/{path_prefix}\")"
   ]
  },
  {
   "cell_type": "markdown",
   "metadata": {},
   "source": [
    "## Upload file to MinIO"
   ]
  },
  {
   "cell_type": "code",
   "execution_count": null,
   "metadata": {},
   "outputs": [],
   "source": [
    "s3_filepath:str = f\"{bucket}/{path_prefix}/test.txt\"\n",
    "local_filepath: str = \"storage/test.txt\"\n",
    "\n",
    "\n",
    "# check file exists\n",
    "if s3.exists(s3_filepath):\n",
    "    print(f\"{s3_filepath} - file exists \")\n",
    "    print(\"Overwrite if exists.\")\n",
    "\n",
    "\n",
    "\n",
    "# upload file (Overwrite if exists)\n",
    "print(\"Upload file: \", local_filepath)\n",
    "s3.put(local_filepath, s3_filepath)\n",
    "\n",
    "# show flie upload\n",
    "s3.ls(s3_filepath)\n",
    "\n",
    "print(\"file uploaded.\")\n"
   ]
  },
  {
   "cell_type": "markdown",
   "metadata": {},
   "source": [
    "## Read file from MinIO"
   ]
  },
  {
   "cell_type": "code",
   "execution_count": null,
   "metadata": {},
   "outputs": [],
   "source": [
    "s3_filepath:str = f\"{bucket}/{path_prefix}/test.txt\"\n",
    "if s3.exists(s3_filepath):\n",
    "    print(\"Open file\")\n",
    "    with s3.open(s3_filepath, mode=\"r\") as f:\n",
    "        print(f.read())\n",
    "        pass"
   ]
  },
  {
   "cell_type": "markdown",
   "metadata": {},
   "source": [
    "## Download file from MinIO\n"
   ]
  },
  {
   "cell_type": "code",
   "execution_count": null,
   "metadata": {},
   "outputs": [],
   "source": [
    "s3_filepath:str = f\"{bucket}/{path_prefix}/test.txt\"\n",
    "download_file: str = f\"{local_filepath}.download\"\n",
    "s3.download(s3_filepath, download_file)\n",
    "\n",
    "with open(download_file, mode=\"r\") as f:\n",
    "    print(f.read())\n",
    "    pass\n",
    "\n",
    "os.unlink(download_file)"
   ]
  },
  {
   "cell_type": "markdown",
   "metadata": {},
   "source": [
    "## Remove file In MinIO"
   ]
  },
  {
   "cell_type": "code",
   "execution_count": null,
   "metadata": {},
   "outputs": [],
   "source": [
    "remove_file: str =  f\"{bucket}/{path_prefix}/test.txt\"\n",
    "s3.rm_file(remove_file)\n",
    "\n",
    "if not s3.exists(remove_file):\n",
    "    print(f\"{remove_file} - file removed.\")"
   ]
  }
 ],
 "metadata": {
  "kernelspec": {
   "display_name": "Python 3",
   "language": "python",
   "name": "python3"
  },
  "language_info": {
   "codemirror_mode": {
    "name": "ipython",
    "version": 3
   },
   "file_extension": ".py",
   "mimetype": "text/x-python",
   "name": "python",
   "nbconvert_exporter": "python",
   "pygments_lexer": "ipython3",
   "version": "3.11.6"
  }
 },
 "nbformat": 4,
 "nbformat_minor": 2
}
